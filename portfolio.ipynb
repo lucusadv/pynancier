{
 "cells": [
  {
   "cell_type": "markdown",
   "metadata": {},
   "source": [
    "###### Definitions\n",
    "\n",
    "$w_t :=$  portfolio at epoch $t$ (close of day $t-1$)\n",
    "\n",
    "$r_t :=$ return at epoch $t$ (close of day $t-1$ to close of day $t$)\n",
    "\n",
    "$S \\subset \\mathbb N$ set of epochs when the portfolio is traded\n",
    "\n",
    "$||x||_1 :=\\sum_i |x_i|$\n",
    "\n",
    "$ (x \\circ y)_i : = x_i y_i$\n",
    "\n",
    "###### Recursions\n",
    "$v_0 = w_0$\n",
    "\n",
    "$v_{t+1} = \\begin{cases} \n",
    "v_t \\circ r_t & \\text{if} \\; {t+1 \\not \\in S} \\\\ \n",
    "\\frac{||v_t||_1}{||w_{t+1}||_1} w_{t+1} & \\text{otherwise}\n",
    "\\end{cases}$\n",
    "\n",
    "###### Process\n",
    "\n",
    "  - Create a frame of portfolios W (id/date) and of returns R\n",
    "  - Outer align by id\n",
    "  - create an iterator that takes W, R and yields the portfolio $v_t$\n"
   ]
  },
  {
   "cell_type": "code",
   "execution_count": 9,
   "metadata": {
    "collapsed": false
   },
   "outputs": [],
   "source": [
    "import pandas as pd\n",
    "import numpy as np\n",
    "import os \n",
    "import glob \n",
    "\n",
    "\n",
    "def gmv(x):\n",
    "    \"\"\"Gross Market Value of a portfolio, expressed as a pandas series\"\"\"\n",
    "    return(x.abs.sum(axis = 0))\n",
    "\n",
    "def series_prod(x, y):\n",
    "    \"\"\"Hadamard product for two pandas series, outer aligned\"\"\"\n",
    "    y, z = x.align(y, join = 'outer', fill_value= 0)\n",
    "    return(y*z)\n",
    "\n",
    "def compute_performance(strat, ret):\n",
    "    strat = pd.DataFrame(strat)\n",
    "    v = pd.DataFrame(index=stra.index,columns=strat.columns) \n",
    "    dates_rebal = list(strat.columns)\n",
    "    dates_returns = sorted(list(ret.columns))\n",
    "    assert set(dates_rebal) <= set(dates_returns)\n",
    "    dtes_iter = zip(dates_return, [''] + dates_return[:-1])\n",
    "    \n",
    "    for d, d_prev in dates_returns:\n",
    "        if d == date_return[0]:\n",
    "            v[[d]] = strat[[d]]\n",
    "        elif d in dates_rebal:\n",
    "            tmp = series_prod(RET[[d_prev]], v[[d_prev]])\n",
    "            v[[d]] = (gmv(tmp)/gmv(strat[[d]])) * strat[[d]]                            \n",
    "        else:\n",
    "            v[[d]] = series_prod(RET[[d_prev]], v[[d_prev]]) \n",
    "            end         \n",
    "    strat_nmv = v.sum(index = 1)    \n",
    "    strat_pnl = strat_nmv.diff()\n",
    "    strat_gmv = v.abs.sum(index = 1)\n",
    "    return(strat_nmv, strat_pnl, strat_gmv)\n",
    "\n"
   ]
  },
  {
   "cell_type": "code",
   "execution_count": 13,
   "metadata": {
    "collapsed": false
   },
   "outputs": [
    {
     "data": {
      "text/plain": [
       "a     30\n",
       "b     60\n",
       "c    300\n",
       "d      0\n",
       "dtype: int64"
      ]
     },
     "execution_count": 13,
     "metadata": {},
     "output_type": "execute_result"
    }
   ],
   "source": [
    "# dates = date_range('1/1/2000', periods=8)\n",
    "#\n",
    "#\n",
    "\n",
    "STR = {'2000-01-01':{\"a\": 1, \"b\": 2, \"c\": 10, \"d\":0}, \n",
    "       '2000-01-10':{\"a\": 1, \"b\": 2, \"c\": 20, \"d\":-1}, \n",
    "       '2001-01-20':{\"f\":1}}\n",
    "STR2 = {key:pd.Series(x) for key, x in STR.items()}\n",
    "RET = pd.DataFrame(STR)\n",
    "RET\n",
    "RET[[x for x in RET.columns if x >= '2001-01-01']]\n",
    "\n",
    "d = pd.date_range(pd.datetime.today(), periods=10).tolist()\n",
    "d = [x.strftime('%Y-%m-%d') for x in d]\n",
    "\n",
    "30*STR2['2000-01-01']\n"
   ]
  },
  {
   "cell_type": "code",
   "execution_count": 14,
   "metadata": {
    "collapsed": false
   },
   "outputs": [
    {
     "data": {
      "text/html": [
       "<div style=\"max-height:1000px;max-width:1500px;overflow:auto;\">\n",
       "<table border=\"1\" class=\"dataframe\">\n",
       "  <thead>\n",
       "    <tr style=\"text-align: right;\">\n",
       "      <th></th>\n",
       "      <th>2000-01-01</th>\n",
       "      <th>2000-01-10</th>\n",
       "      <th>2001-01-20</th>\n",
       "    </tr>\n",
       "  </thead>\n",
       "  <tbody>\n",
       "    <tr>\n",
       "      <th>a</th>\n",
       "      <td>  1</td>\n",
       "      <td>  1</td>\n",
       "      <td>NaN</td>\n",
       "    </tr>\n",
       "    <tr>\n",
       "      <th>b</th>\n",
       "      <td>  2</td>\n",
       "      <td>  2</td>\n",
       "      <td>NaN</td>\n",
       "    </tr>\n",
       "    <tr>\n",
       "      <th>c</th>\n",
       "      <td> 10</td>\n",
       "      <td> 20</td>\n",
       "      <td>NaN</td>\n",
       "    </tr>\n",
       "    <tr>\n",
       "      <th>d</th>\n",
       "      <td>  0</td>\n",
       "      <td> -1</td>\n",
       "      <td>NaN</td>\n",
       "    </tr>\n",
       "    <tr>\n",
       "      <th>f</th>\n",
       "      <td>NaN</td>\n",
       "      <td>NaN</td>\n",
       "      <td>  1</td>\n",
       "    </tr>\n",
       "  </tbody>\n",
       "</table>\n",
       "</div>"
      ],
      "text/plain": [
       "   2000-01-01  2000-01-10  2001-01-20\n",
       "a           1           1         NaN\n",
       "b           2           2         NaN\n",
       "c          10          20         NaN\n",
       "d           0          -1         NaN\n",
       "f         NaN         NaN           1"
      ]
     },
     "execution_count": 14,
     "metadata": {},
     "output_type": "execute_result"
    }
   ],
   "source": [
    "RET"
   ]
  },
  {
   "cell_type": "code",
   "execution_count": 15,
   "metadata": {
    "collapsed": false
   },
   "outputs": [],
   "source": [
    "A = pd.read_csv('/Users/gappy/dropbox/kernel_data/security/SecMas_1994_TD.txt', header=0,sep='|', nrows= 100)\n"
   ]
  },
  {
   "cell_type": "code",
   "execution_count": null,
   "metadata": {
    "collapsed": true
   },
   "outputs": [],
   "source": []
  }
 ],
 "metadata": {
  "kernelspec": {
   "display_name": "Python 3",
   "language": "python",
   "name": "python3"
  },
  "language_info": {
   "codemirror_mode": {
    "name": "ipython",
    "version": 3
   },
   "file_extension": ".py",
   "mimetype": "text/x-python",
   "name": "python",
   "nbconvert_exporter": "python",
   "pygments_lexer": "ipython3",
   "version": "3.4.3"
  }
 },
 "nbformat": 4,
 "nbformat_minor": 0
}
