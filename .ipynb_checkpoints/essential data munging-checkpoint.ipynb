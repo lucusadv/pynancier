{
 "cells": [
  {
   "cell_type": "markdown",
   "metadata": {},
   "source": [
    "# Essential Blaze-Pandas-XRay-Toolz\n",
    "\n",
    "Python offers several packages for data manipulation. Learning all of them can be very time-consuming. Besides, it may be unnecessary. Some capabilities overlap among two or more packages. Certain capabilities are \"good to know\" but not used often. This short guide has two goals:\n",
    "\n",
    "    - helping the reader write clean, efficient code in python\n",
    "    \n",
    "    - provide a starting point to help the reader learn additional constructs, which inevitably present themselves in other people's code.\n",
    " "
   ]
  },
  {
   "cell_type": "markdown",
   "metadata": {},
   "source": [
    "## Preliminaries"
   ]
  },
  {
   "cell_type": "code",
   "execution_count": 57,
   "metadata": {
    "collapsed": false
   },
   "outputs": [],
   "source": [
    "# preliminaries\n",
    "import numpy as np\n",
    "import blaze as bl\n",
    "import toolz as tz\n",
    "import pandas as pd\n",
    "import xray as xr"
   ]
  },
  {
   "cell_type": "markdown",
   "metadata": {},
   "source": [
    "## Data Frames\n",
    "In spite of their apparent simplicity, tabular data (or data frames) offer a dizzying array of choices (pun intended). Pandas is the main package that implements tabular data in memory in python. In pandas columns must have the same type, but otherwise rows and columns are treated almost symmetrically. One can query by row index, but also by column index. Columns indices can be interpreted as _values_. When the table columns have all the same type, the symmetry is nearly complete. In this case, one can use function on the data that \"align\" two or more table across rows, columns, or both.\n",
    "\n",
    "Rather than embrace this flexible but complex approach, we take an opinionated approach. Data frames must be _tidy_: columns are variables, and rows are observations, in which the variable takes a particular value.\n"
   ]
  },
  {
   "cell_type": "code",
   "execution_count": 71,
   "metadata": {
    "collapsed": false
   },
   "outputs": [
    {
     "name": "stdout",
     "output_type": "stream",
     "text": [
      "{'inhabitants': [8400000.0, 2800000.0, 11500000.0], 'continent': ['Europe', 'America', 'Europe'], 'city': ['Rome', 'New York', 'Moscow']}\n",
      "       city continent  inhabitants\n",
      "0      Rome    Europe      8400000\n",
      "1  New York   America      2800000\n",
      "2    Moscow    Europe     11500000\n",
      "[(1, 2.0, b'Hello') (2, 3.0, b'World')]\n",
      "   A  B         C\n",
      "0  1  2  b'Hello'\n",
      "1  2  3  b'World'\n",
      "[[  0.   1.   2.   3.]\n",
      " [  4.   5.   6.   7.]\n",
      " [  8.   9.  10.  11.]]\n",
      "   a  b   c   d\n",
      "0  0  1   2   3\n",
      "1  4  5   6   7\n",
      "2  8  9  10  11\n"
     ]
    },
    {
     "data": {
      "text/html": [
       "<div>\n",
       "<table border=\"1\" class=\"dataframe\">\n",
       "  <thead>\n",
       "    <tr style=\"text-align: right;\">\n",
       "      <th></th>\n",
       "      <th>carat</th>\n",
       "      <th>cut</th>\n",
       "      <th>color</th>\n",
       "      <th>clarity</th>\n",
       "      <th>depth</th>\n",
       "      <th>table</th>\n",
       "      <th>price</th>\n",
       "      <th>x</th>\n",
       "      <th>y</th>\n",
       "      <th>z</th>\n",
       "    </tr>\n",
       "  </thead>\n",
       "  <tbody>\n",
       "    <tr>\n",
       "      <th>0</th>\n",
       "      <td>0.23</td>\n",
       "      <td>Ideal</td>\n",
       "      <td>E</td>\n",
       "      <td>SI2</td>\n",
       "      <td>61.5</td>\n",
       "      <td>55</td>\n",
       "      <td>326</td>\n",
       "      <td>3.95</td>\n",
       "      <td>3.98</td>\n",
       "      <td>2.43</td>\n",
       "    </tr>\n",
       "    <tr>\n",
       "      <th>1</th>\n",
       "      <td>0.21</td>\n",
       "      <td>Premium</td>\n",
       "      <td>E</td>\n",
       "      <td>SI1</td>\n",
       "      <td>59.8</td>\n",
       "      <td>61</td>\n",
       "      <td>326</td>\n",
       "      <td>3.89</td>\n",
       "      <td>3.84</td>\n",
       "      <td>2.31</td>\n",
       "    </tr>\n",
       "    <tr>\n",
       "      <th>2</th>\n",
       "      <td>0.23</td>\n",
       "      <td>Good</td>\n",
       "      <td>E</td>\n",
       "      <td>VS1</td>\n",
       "      <td>56.9</td>\n",
       "      <td>65</td>\n",
       "      <td>327</td>\n",
       "      <td>4.05</td>\n",
       "      <td>4.07</td>\n",
       "      <td>2.31</td>\n",
       "    </tr>\n",
       "    <tr>\n",
       "      <th>3</th>\n",
       "      <td>0.29</td>\n",
       "      <td>Premium</td>\n",
       "      <td>I</td>\n",
       "      <td>VS2</td>\n",
       "      <td>62.4</td>\n",
       "      <td>58</td>\n",
       "      <td>334</td>\n",
       "      <td>4.20</td>\n",
       "      <td>4.23</td>\n",
       "      <td>2.63</td>\n",
       "    </tr>\n",
       "    <tr>\n",
       "      <th>4</th>\n",
       "      <td>0.31</td>\n",
       "      <td>Good</td>\n",
       "      <td>J</td>\n",
       "      <td>SI2</td>\n",
       "      <td>63.3</td>\n",
       "      <td>58</td>\n",
       "      <td>335</td>\n",
       "      <td>4.34</td>\n",
       "      <td>4.35</td>\n",
       "      <td>2.75</td>\n",
       "    </tr>\n",
       "    <tr>\n",
       "      <th>5</th>\n",
       "      <td>0.24</td>\n",
       "      <td>Very Good</td>\n",
       "      <td>J</td>\n",
       "      <td>VVS2</td>\n",
       "      <td>62.8</td>\n",
       "      <td>57</td>\n",
       "      <td>336</td>\n",
       "      <td>3.94</td>\n",
       "      <td>3.96</td>\n",
       "      <td>2.48</td>\n",
       "    </tr>\n",
       "  </tbody>\n",
       "</table>\n",
       "</div>"
      ],
      "text/plain": [
       "   carat        cut color clarity  depth  table  price     x     y     z\n",
       "0   0.23      Ideal     E     SI2   61.5     55    326  3.95  3.98  2.43\n",
       "1   0.21    Premium     E     SI1   59.8     61    326  3.89  3.84  2.31\n",
       "2   0.23       Good     E     VS1   56.9     65    327  4.05  4.07  2.31\n",
       "3   0.29    Premium     I     VS2   62.4     58    334  4.20  4.23  2.63\n",
       "4   0.31       Good     J     SI2   63.3     58    335  4.34  4.35  2.75\n",
       "5   0.24  Very Good     J    VVS2   62.8     57    336  3.94  3.96  2.48"
      ]
     },
     "execution_count": 71,
     "metadata": {},
     "output_type": "execute_result"
    }
   ],
   "source": [
    "# reading data/converting data\n",
    "# tool chosen: blaze/pandas\n",
    "\n",
    "\n",
    "\n",
    "# From dictionary\n",
    "m = {'city': ['Rome', 'New York', 'Moscow'], \n",
    "     'continent': ['Europe', 'America', 'Europe'], \n",
    "     'inhabitants': [8.4e6, 2.8e6, 11.5e6]}\n",
    "DF = pd.DataFrame(m)\n",
    "print(m)\n",
    "print(DF)\n",
    "\n",
    "# from recarray\n",
    "m = np.zeros((2,), dtype=[('A', 'i4'),('B', 'f4'),('C', 'a10')])\n",
    "m[:] = [(1,2.,'Hello'),(2,3.,\"World\")]\n",
    "DF = pd.DataFrame(m)\n",
    "print(m)\n",
    "print(DF)\n",
    "\n",
    "# from ndarray\n",
    "m = np.arange(12.).reshape((3, 4))        \n",
    "DF = pd.DataFrame(m, columns=['a', 'b', 'c', 'd'])\n",
    "print(m)\n",
    "print(DF)\n",
    "\n",
    "# from file\n",
    "DF = pd.read_csv('~/dropbox/gapgit/pandas_dplyr/diamonds.csv')\n",
    "DF.head(6)"
   ]
  },
  {
   "cell_type": "markdown",
   "metadata": {},
   "source": [
    "### Selecting or Unselecting Columns"
   ]
  },
  {
   "cell_type": "code",
   "execution_count": 77,
   "metadata": {
    "collapsed": false
   },
   "outputs": [
    {
     "name": "stdout",
     "output_type": "stream",
     "text": [
      "0    0.23\n",
      "1    0.21\n",
      "2    0.23\n",
      "3    0.29\n",
      "4    0.31\n",
      "5    0.24\n",
      "Name: carat, dtype: float64\n",
      "   carat color\n",
      "0   0.23     E\n",
      "1   0.21     E\n",
      "2   0.23     E\n",
      "3   0.29     I\n",
      "4   0.31     J\n",
      "5   0.24     J\n",
      "Index(['carat', 'cut', 'color', 'clarity', 'depth', 'table', 'price', 'x', 'y',\n",
      "       'z'],\n",
      "      dtype='object')\n"
     ]
    }
   ],
   "source": [
    "# selecting columns\n",
    "DF2 = DF.copy()\n",
    "print(DF2['carat'].head(6))\n",
    "\n",
    "print(DF2[['carat','color']].head(6))\n",
    "\n",
    "# getting column names. This returns an index object\n",
    "print(DF2.columns)\n",
    "DF2.columns[[1,2]]\n",
    "# also possible to assign columns\n",
    "DF2.columns = [x.upper() for x in DF.columns]\n",
    "# you can't subset individual column names and subset them"
   ]
  },
  {
   "cell_type": "code",
   "execution_count": null,
   "metadata": {
    "collapsed": true
   },
   "outputs": [],
   "source": []
  },
  {
   "cell_type": "code",
   "execution_count": 50,
   "metadata": {
    "collapsed": false
   },
   "outputs": [
    {
     "data": {
      "text/html": [
       "<div>\n",
       "<table border=\"1\" class=\"dataframe\">\n",
       "  <thead>\n",
       "    <tr style=\"text-align: right;\">\n",
       "      <th></th>\n",
       "      <th>color</th>\n",
       "      <th>clarity</th>\n",
       "      <th>depth</th>\n",
       "      <th>table</th>\n",
       "      <th>price</th>\n",
       "      <th>x</th>\n",
       "      <th>y</th>\n",
       "      <th>z</th>\n",
       "    </tr>\n",
       "  </thead>\n",
       "  <tbody>\n",
       "    <tr>\n",
       "      <th>0</th>\n",
       "      <td>E</td>\n",
       "      <td>SI2</td>\n",
       "      <td>61.5</td>\n",
       "      <td>55</td>\n",
       "      <td>326</td>\n",
       "      <td>3.95</td>\n",
       "      <td>3.98</td>\n",
       "      <td>2.43</td>\n",
       "    </tr>\n",
       "    <tr>\n",
       "      <th>1</th>\n",
       "      <td>E</td>\n",
       "      <td>SI1</td>\n",
       "      <td>59.8</td>\n",
       "      <td>61</td>\n",
       "      <td>326</td>\n",
       "      <td>3.89</td>\n",
       "      <td>3.84</td>\n",
       "      <td>2.31</td>\n",
       "    </tr>\n",
       "    <tr>\n",
       "      <th>2</th>\n",
       "      <td>E</td>\n",
       "      <td>VS1</td>\n",
       "      <td>56.9</td>\n",
       "      <td>65</td>\n",
       "      <td>327</td>\n",
       "      <td>4.05</td>\n",
       "      <td>4.07</td>\n",
       "      <td>2.31</td>\n",
       "    </tr>\n",
       "    <tr>\n",
       "      <th>3</th>\n",
       "      <td>I</td>\n",
       "      <td>VS2</td>\n",
       "      <td>62.4</td>\n",
       "      <td>58</td>\n",
       "      <td>334</td>\n",
       "      <td>4.20</td>\n",
       "      <td>4.23</td>\n",
       "      <td>2.63</td>\n",
       "    </tr>\n",
       "    <tr>\n",
       "      <th>4</th>\n",
       "      <td>J</td>\n",
       "      <td>SI2</td>\n",
       "      <td>63.3</td>\n",
       "      <td>58</td>\n",
       "      <td>335</td>\n",
       "      <td>4.34</td>\n",
       "      <td>4.35</td>\n",
       "      <td>2.75</td>\n",
       "    </tr>\n",
       "    <tr>\n",
       "      <th>5</th>\n",
       "      <td>J</td>\n",
       "      <td>VVS2</td>\n",
       "      <td>62.8</td>\n",
       "      <td>57</td>\n",
       "      <td>336</td>\n",
       "      <td>3.94</td>\n",
       "      <td>3.96</td>\n",
       "      <td>2.48</td>\n",
       "    </tr>\n",
       "  </tbody>\n",
       "</table>\n",
       "</div>"
      ],
      "text/plain": [
       "  color clarity  depth  table  price     x     y     z\n",
       "0     E     SI2   61.5     55    326  3.95  3.98  2.43\n",
       "1     E     SI1   59.8     61    326  3.89  3.84  2.31\n",
       "2     E     VS1   56.9     65    327  4.05  4.07  2.31\n",
       "3     I     VS2   62.4     58    334  4.20  4.23  2.63\n",
       "4     J     SI2   63.3     58    335  4.34  4.35  2.75\n",
       "5     J    VVS2   62.8     57    336  3.94  3.96  2.48"
      ]
     },
     "execution_count": 50,
     "metadata": {},
     "output_type": "execute_result"
    }
   ],
   "source": [
    "# deleting one or more column\n",
    "DF2 = DF.copy()\n",
    "DF2 = DF2.drop(['carat','cut'], axis=1)\n",
    "DF2.head(6)"
   ]
  },
  {
   "cell_type": "markdown",
   "metadata": {},
   "source": [
    "### Selecting Rows"
   ]
  },
  {
   "cell_type": "code",
   "execution_count": 54,
   "metadata": {
    "collapsed": false
   },
   "outputs": [
    {
     "name": "stdout",
     "output_type": "stream",
     "text": [
      "0     SI2\n",
      "1     SI1\n",
      "2     VS1\n",
      "3     VS2\n",
      "4     SI2\n",
      "5    VVS2\n",
      "Name: clarity, dtype: object\n",
      "   carat        cut color clarity  depth  table  price     x     y     z\n",
      "3   0.29    Premium     I     VS2   62.4     58    334  4.20  4.23  2.63\n",
      "4   0.31       Good     J     SI2   63.3     58    335  4.34  4.35  2.75\n",
      "5   0.24  Very Good     J    VVS2   62.8     57    336  3.94  3.96  2.48\n",
      "6   0.24  Very Good     I    VVS1   62.3     57    336  3.95  3.98  2.47\n",
      "7   0.26  Very Good     H     SI1   61.9     55    337  4.07  4.11  2.53\n",
      "8   0.22       Fair     E     VS2   65.1     61    337  3.87  3.78  2.49\n",
      "    carat        cut color clarity  depth  table  price     x     y     z\n",
      "3    0.29    Premium     I     VS2   62.4     58    334  4.20  4.23  2.63\n",
      "8    0.22       Fair     E     VS2   65.1     61    337  3.87  3.78  2.49\n",
      "21   0.23  Very Good     E     VS2   63.8     55    352  3.85  3.92  2.48\n",
      "27   0.30  Very Good     J     VS2   62.2     57    357  4.28  4.30  2.67\n",
      "28   0.23  Very Good     D     VS2   60.5     61    357  3.96  3.97  2.40\n",
      "38   0.26  Very Good     D     VS2   60.8     59    403  4.13  4.16  2.52\n"
     ]
    }
   ],
   "source": [
    "# selecting rows\n",
    "# note the ix method\n",
    "print(DF.clarity.head(6))\n",
    "print(DF.ix[DF.price > 330].head(6)) # boolean\n",
    "DF2 = DF.ix[[x in ['SV1', 'VS2'] for x in DF.clarity]]\n",
    "print(DF2.head(6))\n"
   ]
  },
  {
   "cell_type": "code",
   "execution_count": null,
   "metadata": {
    "collapsed": true
   },
   "outputs": [],
   "source": []
  },
  {
   "cell_type": "code",
   "execution_count": null,
   "metadata": {
    "collapsed": true
   },
   "outputs": [],
   "source": []
  },
  {
   "cell_type": "code",
   "execution_count": null,
   "metadata": {
    "collapsed": true
   },
   "outputs": [],
   "source": [
    "# filtering rows"
   ]
  },
  {
   "cell_type": "code",
   "execution_count": null,
   "metadata": {
    "collapsed": true
   },
   "outputs": [],
   "source": [
    "# selecting columns"
   ]
  },
  {
   "cell_type": "code",
   "execution_count": 4,
   "metadata": {
    "collapsed": true
   },
   "outputs": [],
   "source": [
    "?pd.read_csv"
   ]
  }
 ],
 "metadata": {
  "kernelspec": {
   "display_name": "Python 3",
   "language": "python",
   "name": "python3"
  },
  "language_info": {
   "codemirror_mode": {
    "name": "ipython",
    "version": 3
   },
   "file_extension": ".py",
   "mimetype": "text/x-python",
   "name": "python",
   "nbconvert_exporter": "python",
   "pygments_lexer": "ipython3",
   "version": "3.4.3"
  }
 },
 "nbformat": 4,
 "nbformat_minor": 0
}
